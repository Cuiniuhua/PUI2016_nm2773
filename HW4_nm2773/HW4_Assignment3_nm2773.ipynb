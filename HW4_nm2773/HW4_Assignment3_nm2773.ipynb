{
 "cells": [
  {
   "cell_type": "markdown",
   "metadata": {},
   "source": [
    "# HW 4 Assignment 3"
   ]
  },
  {
   "cell_type": "markdown",
   "metadata": {},
   "source": [
    "Nurvirta Monarizqa (nm2773)"
   ]
  },
  {
   "cell_type": "code",
   "execution_count": 1,
   "metadata": {
    "collapsed": true
   },
   "outputs": [],
   "source": [
    "import numpy as np"
   ]
  },
  {
   "cell_type": "markdown",
   "metadata": {},
   "source": [
    "# 1. Ever employed in a CEO transitional job\n",
    "\n",
    "## NULL HYPOTHESIS: \n",
    "the % of former prisoners employed after release is the same or lower for candidates who participated in the program as for the control group, significance level p=0.05\n",
    "\n",
    "$H_0 : P_0 - P_1 \\geq 0$\n",
    "\n",
    "$H_1 : P_0 - P_1 < 0$\n",
    "\n",
    "$\\alpha = 0.05$"
   ]
  },
  {
   "cell_type": "code",
   "execution_count": 30,
   "metadata": {
    "collapsed": false
   },
   "outputs": [
    {
     "name": "stdout",
     "output_type": "stream",
     "text": [
      "we must assess the statistical significance\n"
     ]
    }
   ],
   "source": [
    "alpha = 0.05\n",
    "\n",
    "P_0 = 3.5 * 0.01\n",
    "P_1 = 70.1 * 0.01\n",
    "\n",
    "if P_0-P_1 >= 0:\n",
    "    # we are done\n",
    "    print (\"the Null holds\")\n",
    "else:\n",
    "    print (\"we must assess the statistical significance\")\n",
    "\n",
    "n_0 = 409\n",
    "n_1 = 564\n",
    "\n",
    "Nt_0 = P_0 * n_0\n",
    "Nt_1 = P_1 * n_1"
   ]
  },
  {
   "cell_type": "code",
   "execution_count": 31,
   "metadata": {
    "collapsed": false
   },
   "outputs": [
    {
     "name": "stdout",
     "output_type": "stream",
     "text": [
      "0.4210472764645426\n"
     ]
    }
   ],
   "source": [
    "#define the sample proportion first\n",
    "sp = (P_0 * n_0 + P_1 * n_1) / (n_1 + n_0)\n",
    "print (sp)"
   ]
  },
  {
   "cell_type": "code",
   "execution_count": 32,
   "metadata": {
    "collapsed": false
   },
   "outputs": [
    {
     "name": "stdout",
     "output_type": "stream",
     "text": [
      "0.035 409 564 0.0320658086057\n"
     ]
    }
   ],
   "source": [
    "# calculate standard deviation\n",
    "sp_stdev = lambda p, n: np.sqrt( p * ( 1 - p ) / n[0] +  p * ( 1 - p ) / n[1]  )\n",
    "\n",
    "\n",
    "sp_stdev_2y = sp_stdev(( Nt_0 + Nt_1) / (n_0 + n_1), [n_0, n_1])\n",
    "print (P_0, n_0, n_1, sp_stdev_2y)"
   ]
  },
  {
   "cell_type": "code",
   "execution_count": 33,
   "metadata": {
    "collapsed": false
   },
   "outputs": [
    {
     "name": "stdout",
     "output_type": "stream",
     "text": [
      "20.7697865408\n"
     ]
    }
   ],
   "source": [
    "# calculate z-score\n",
    "zscore = lambda p0, p1, s : (p0 - p1) / s\n",
    "z_2y = zscore(P_1, P_0, sp_stdev_2y)\n",
    "print (z_2y)"
   ]
  },
  {
   "cell_type": "code",
   "execution_count": 34,
   "metadata": {
    "collapsed": false
   },
   "outputs": [
    {
     "name": "stdout",
     "output_type": "stream",
     "text": [
      "is the p value 0.00 smaller than the critical value 0.05? \n",
      "YES!\n",
      "the Null hypothesis is rejected\n"
     ]
    }
   ],
   "source": [
    "# 20 is way more than 3, the max of z score\n",
    "# so we use 0.9998 for the p \n",
    "\n",
    "p_2y = 1 - 0.9998\n",
    "\n",
    "def report_result(p,a):\n",
    "    print ('is the p value {0:.2f} smaller than the critical value {1:.2f}? '.format(p,a))\n",
    "    if p < a:\n",
    "        print (\"YES!\")\n",
    "    else: \n",
    "        print (\"NO!\")\n",
    "    \n",
    "    print ('the Null hypothesis is {}'.format( 'rejected' if p < a  else 'not rejected') )\n",
    "\n",
    "    \n",
    "report_result(p_2y,alpha)"
   ]
  },
  {
   "cell_type": "markdown",
   "metadata": {},
   "source": [
    "# 2. Convicted of a felony"
   ]
  },
  {
   "cell_type": "markdown",
   "metadata": {},
   "source": [
    "## NULL HYPOTHESIS\n",
    "the % of former prisoners recidivismed (ever convicted of a felony) after release is the same or higher for candidates who participated in the program than for the control group, significance level p=0.05\n",
    "\n",
    "$H_0 : P1 \\leq P0$\n",
    "\n",
    "$H_1 : P1 >P0$"
   ]
  },
  {
   "cell_type": "code",
   "execution_count": 55,
   "metadata": {
    "collapsed": false
   },
   "outputs": [
    {
     "name": "stdout",
     "output_type": "stream",
     "text": [
      "the Null holds\n"
     ]
    }
   ],
   "source": [
    "alpha = 0.05\n",
    "\n",
    "P_0 = 11.7 * 0.01\n",
    "P_1 = 10.0 * 0.01\n",
    "\n",
    "if P_0-P_1 >= 0:\n",
    "    # we are done\n",
    "    print (\"the Null holds\")\n",
    "else:\n",
    "    print (\"we must assess the statistical significance\")\n",
    "\n",
    "n_0 = 409\n",
    "n_1 = 568\n",
    "\n",
    "Nt_0 = P_0 * n_0\n",
    "Nt_1 = P_1 * n_1"
   ]
  },
  {
   "cell_type": "code",
   "execution_count": 56,
   "metadata": {
    "collapsed": false
   },
   "outputs": [
    {
     "name": "stdout",
     "output_type": "stream",
     "text": [
      "0.10711668372569089\n"
     ]
    }
   ],
   "source": [
    "#define the sample proportion first\n",
    "sp = (P_0 * n_0 + P_1 * n_1) / (n_1 + n_0)\n",
    "print (sp)"
   ]
  },
  {
   "cell_type": "code",
   "execution_count": 57,
   "metadata": {
    "collapsed": false
   },
   "outputs": [
    {
     "name": "stdout",
     "output_type": "stream",
     "text": [
      "0.11699999999999999 409 568 0.0200556791612\n"
     ]
    }
   ],
   "source": [
    "# calculate standard deviation\n",
    "sp_stdev_rev = sp_stdev(( Nt_0 + Nt_1) / (n_0 + n_1), [n_0, n_1])\n",
    "print (P_0, n_0, n_1, sp_stdev_rev)"
   ]
  },
  {
   "cell_type": "code",
   "execution_count": 58,
   "metadata": {
    "collapsed": false
   },
   "outputs": [
    {
     "name": "stdout",
     "output_type": "stream",
     "text": [
      "-0.84764020522\n"
     ]
    }
   ],
   "source": [
    "# calculate z-score\n",
    "z_rev = zscore(P_1, P_0, sp_stdev_rev)\n",
    "print (z_rev)"
   ]
  },
  {
   "cell_type": "code",
   "execution_count": 59,
   "metadata": {
    "collapsed": false
   },
   "outputs": [
    {
     "name": "stdout",
     "output_type": "stream",
     "text": [
      "is the p value 0.20 smaller than the critical value 0.05? \n",
      "NO!\n",
      "the Null hypothesis is not rejected\n"
     ]
    }
   ],
   "source": [
    "# for z = 0.84, P = 0.7995\n",
    "p_rev = 1 - 0.7995\n",
    "def report_result(p,a):\n",
    "    print ('is the p value {0:.2f} smaller than the critical value {1:.2f}? '.format(p,a))\n",
    "    if p < a:\n",
    "        print (\"YES!\")\n",
    "    else: \n",
    "        print (\"NO!\")\n",
    "    \n",
    "    print ('the Null hypothesis is {}'.format( 'rejected' if p < a  else 'not rejected') )\n",
    "\n",
    "    \n",
    "report_result(p_rev,alpha)"
   ]
  },
  {
   "cell_type": "markdown",
   "metadata": {},
   "source": [
    "## Contingency table"
   ]
  },
  {
   "cell_type": "markdown",
   "metadata": {},
   "source": [
    "| convicted a fellony | yes | no |\n",
    "|:--:|:---:|:--:|\n",
    "| test sample | 0.117 * 568 | 0.883 * 568 | 568 |\n",
    "| control sample | 0.10 * 409 | 0.90 * 409 | 409 |\n",
    "||||\n",
    "| total | 107.356 | 869.644 |"
   ]
  },
  {
   "cell_type": "code",
   "execution_count": 61,
   "metadata": {
    "collapsed": false
   },
   "outputs": [
    {
     "name": "stdout",
     "output_type": "stream",
     "text": [
      "0.7184939175052875\n"
     ]
    }
   ],
   "source": [
    "chisqstat= lambda N, values, expect_num : ((values[0][0] * values[1][1]\n",
    "                                            -values[0][1] * values[1][0])**2) * N / expect_num\n",
    "Ntot = n_0 + n_1 # a + b + c + d = tot\n",
    "tot_felony = P_0 * n_0 + P_1 * n_1\n",
    "tot_non_felony = (1-P_0) * n_0 + (1-P_1) * n_1\n",
    "\n",
    "expected_num = 568 * 409 * tot_felony * tot_non_felony\n",
    "sample_values = [[P_1 * n_1, (1-P_1) * n_1], [P_0 * n_0, (1-P_0) * n_0]]\n",
    " \n",
    "\n",
    "print (chisqstat(Ntot,  sample_values, expected_num))"
   ]
  },
  {
   "cell_type": "markdown",
   "metadata": {},
   "source": [
    "### Dof is 1 since we have 2 variables and 1 independent variable. To reject null hypothesis with alpha = 0.05, the chi-square value has to be more than 3.84 (value from the table when dof  = 1 and alpha = 0.05), but turns out the chi-square value about the conviction of fellonies above is 0.718 < 3.84. Thus, we can not reject null hypothesis."
   ]
  },
  {
   "cell_type": "code",
   "execution_count": null,
   "metadata": {
    "collapsed": true
   },
   "outputs": [],
   "source": []
  }
 ],
 "metadata": {
  "kernelspec": {
   "display_name": "Python [Root]",
   "language": "python",
   "name": "Python [Root]"
  },
  "language_info": {
   "codemirror_mode": {
    "name": "ipython",
    "version": 3
   },
   "file_extension": ".py",
   "mimetype": "text/x-python",
   "name": "python",
   "nbconvert_exporter": "python",
   "pygments_lexer": "ipython3",
   "version": "3.5.2"
  }
 },
 "nbformat": 4,
 "nbformat_minor": 0
}
