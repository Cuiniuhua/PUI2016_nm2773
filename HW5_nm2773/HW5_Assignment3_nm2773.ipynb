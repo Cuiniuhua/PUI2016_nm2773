{
 "cells": [
  {
   "cell_type": "markdown",
   "metadata": {},
   "source": [
    "# HW 5 Assignment 3\n",
    "\n",
    "## 1. Do diets help lose more fat than the exercise?\n",
    "\n",
    "Null hypothesis: the average difference of body fat between control group and group with 1-month diet is lower than the average difference of body fat between control group and group with 1-month regular exercise.\n",
    "\n",
    "Assumption: all groups have $n$ datapoints.\n",
    "\n",
    "$$H_0 = \\frac{\\sum{\\mid{BF_{diet}-BF_{control}}\\mid}}{n} < \\frac{\\sum{\\mid{BF_{exercise}-BF_{control}}\\mid}}{n} ,\n",
    "H_1 = \\frac{\\sum{\\mid{BF_{diet}-BF_{control}}\\mid}}{n} \\geq \\frac{\\sum{\\mid{BF_{exercise}-BF_{control}}\\mid}}{n} $$"
   ]
  },
  {
   "cell_type": "markdown",
   "metadata": {},
   "source": [
    "## 2. Do American trust the president?\n",
    "Null hypothesis: Majority of the samples said 'yes'\n",
    "\n",
    "$$ H_0: Percentage_{yes} > 50\\% , H_1: Percentage_{yes} \\leq 50\\% $$"
   ]
  },
  {
   "cell_type": "markdown",
   "metadata": {},
   "source": [
    "## 3. Effectiveness of nicotine patches to quit smoking\n",
    "Null hypothesis: cessation rates for smokers randomly assigned to use nicotine patch is lower or the same than placebo patch\n",
    "\n",
    "$$ H_0: \\%nicotine_{quit} \\leq \\%placebo_{quit}, H_1: \\%nicotine_{quit} >\\%placebo_{quit}$$"
   ]
  },
  {
   "cell_type": "markdown",
   "metadata": {},
   "source": [
    "## 4. Quantify the danger of smoking for pregnant women"
   ]
  },
  {
   "cell_type": "markdown",
   "metadata": {},
   "source": [
    "Null hypothesis: average IQ of children from smoking mom is the same or higher than non-smoking moms.\n",
    "\n",
    "group A: IQ children with smoking moms\n",
    "group B: IQ children with non-smoking moms\n",
    "\n",
    "$$ H_0 : \\mu A \\geq \\mu B , H_1 : \\mu A <\\mu B $$"
   ]
  },
  {
   "cell_type": "markdown",
   "metadata": {},
   "source": [
    "Other null hypothesis: there is no relationship between frequency of smoking while pregnant with child's IQ\n"
   ]
  },
  {
   "cell_type": "markdown",
   "metadata": {},
   "source": [
    "$$ H_0 : corr(f_{smoking}, child_{IQ}) = 0, H_0 : corr(f_{smoking}, child_{IQ}) \\neq 0 $$"
   ]
  },
  {
   "cell_type": "code",
   "execution_count": null,
   "metadata": {
    "collapsed": true
   },
   "outputs": [],
   "source": []
  }
 ],
 "metadata": {
  "anaconda-cloud": {},
  "kernelspec": {
   "display_name": "Python [Root]",
   "language": "python",
   "name": "Python [Root]"
  },
  "language_info": {
   "codemirror_mode": {
    "name": "ipython",
    "version": 2
   },
   "file_extension": ".py",
   "mimetype": "text/x-python",
   "name": "python",
   "nbconvert_exporter": "python",
   "pygments_lexer": "ipython2",
   "version": "2.7.12"
  }
 },
 "nbformat": 4,
 "nbformat_minor": 0
}
